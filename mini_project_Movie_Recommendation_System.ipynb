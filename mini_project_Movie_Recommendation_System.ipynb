{
  "nbformat": 4,
  "nbformat_minor": 0,
  "metadata": {
    "colab": {
      "provenance": [],
      "include_colab_link": true
    },
    "kernelspec": {
      "name": "python3",
      "display_name": "Python 3"
    },
    "language_info": {
      "name": "python"
    }
  },
  "cells": [
    {
      "cell_type": "markdown",
      "metadata": {
        "id": "view-in-github",
        "colab_type": "text"
      },
      "source": [
        "<a href=\"https://colab.research.google.com/github/SanghaviHarshPankajkumar/Movie_Recommendation_System/blob/master/mini_project_Movie_Recommendation_System.ipynb\" target=\"_parent\"><img src=\"https://colab.research.google.com/assets/colab-badge.svg\" alt=\"Open In Colab\"/></a>"
      ]
    },
    {
      "cell_type": "markdown",
      "source": [
        "# Movie Recommendations System"
      ],
      "metadata": {
        "id": "czFGu8cPUKWq"
      }
    },
    {
      "cell_type": "markdown",
      "source": [
        "### import all Require Libraries"
      ],
      "metadata": {
        "id": "UlRmoW2eW571"
      }
    },
    {
      "cell_type": "code",
      "source": [
        "import pandas as pd\n",
        "import numpy as np\n",
        "import seaborn as sns\n",
        "import matplotlib.pyplot as plt\n",
        "import re\n",
        "from nltk.corpus import stopwords\n",
        "from nltk.tokenize import word_tokenize\n",
        "from nltk.stem import PorterStemmer\n",
        "import nltk\n",
        "import pickle"
      ],
      "metadata": {
        "id": "PPUVt_TEW-nt"
      },
      "execution_count": 48,
      "outputs": []
    },
    {
      "cell_type": "markdown",
      "source": [
        "### import Dataset"
      ],
      "metadata": {
        "id": "WWkdmF6dUO7V"
      }
    },
    {
      "cell_type": "code",
      "execution_count": 6,
      "metadata": {
        "id": "-dMlg3bzTzqB",
        "colab": {
          "base_uri": "https://localhost:8080/"
        },
        "outputId": "e59d5f17-78e4-47d8-c074-cf15d7037a5f"
      },
      "outputs": [
        {
          "output_type": "stream",
          "name": "stdout",
          "text": [
            "mkdir: cannot create directory ‘/root/.kaggle’: File exists\n"
          ]
        }
      ],
      "source": [
        "! mkdir ~/.kaggle\n",
        "! cp kaggle.json ~/.kaggle/\n",
        "! chmod 600 ~/.kaggle/kaggle.json"
      ]
    },
    {
      "cell_type": "code",
      "source": [
        "!kaggle datasets download -d juzershakir/tmdb-movies-dataset"
      ],
      "metadata": {
        "colab": {
          "base_uri": "https://localhost:8080/"
        },
        "id": "Xgf-6lyYV-eO",
        "outputId": "97c31d1e-688a-4e95-e24e-acfb4ab8dfc0"
      },
      "execution_count": 7,
      "outputs": [
        {
          "output_type": "stream",
          "name": "stdout",
          "text": [
            "Downloading tmdb-movies-dataset.zip to /content\n",
            "\r  0% 0.00/2.97M [00:00<?, ?B/s]\n",
            "\r100% 2.97M/2.97M [00:00<00:00, 220MB/s]\n"
          ]
        }
      ]
    },
    {
      "cell_type": "code",
      "source": [
        "from zipfile import ZipFile\n",
        "dataset = '/content/tmdb-movies-dataset.zip'\n",
        "with ZipFile(dataset,'r') as zip:\n",
        "  zip.extractall()\n",
        "  print('done...')"
      ],
      "metadata": {
        "colab": {
          "base_uri": "https://localhost:8080/"
        },
        "id": "OHTKYHqoWADY",
        "outputId": "02f37629-54e7-447b-8b42-fb7dc9101883"
      },
      "execution_count": 8,
      "outputs": [
        {
          "output_type": "stream",
          "name": "stdout",
          "text": [
            "done...\n"
          ]
        }
      ]
    },
    {
      "cell_type": "markdown",
      "source": [
        "### exploring dataset"
      ],
      "metadata": {
        "id": "5tRozZ8PWJ-y"
      }
    },
    {
      "cell_type": "code",
      "source": [
        "movies_df  = pd.read_csv('/content/tmdb_movies_data.csv')"
      ],
      "metadata": {
        "id": "tGN8v0cjWDQg"
      },
      "execution_count": 9,
      "outputs": []
    },
    {
      "cell_type": "code",
      "source": [
        "movies_df.head()"
      ],
      "metadata": {
        "colab": {
          "base_uri": "https://localhost:8080/",
          "height": 698
        },
        "id": "Q_9Xj3z8dQj7",
        "outputId": "eb46753c-cf3b-4069-f2fd-11493a8a4c39"
      },
      "execution_count": 10,
      "outputs": [
        {
          "output_type": "execute_result",
          "data": {
            "text/plain": [
              "       id    imdb_id  popularity     budget     revenue  \\\n",
              "0  135397  tt0369610   32.985763  150000000  1513528810   \n",
              "1   76341  tt1392190   28.419936  150000000   378436354   \n",
              "2  262500  tt2908446   13.112507  110000000   295238201   \n",
              "3  140607  tt2488496   11.173104  200000000  2068178225   \n",
              "4  168259  tt2820852    9.335014  190000000  1506249360   \n",
              "\n",
              "                 original_title  \\\n",
              "0                Jurassic World   \n",
              "1            Mad Max: Fury Road   \n",
              "2                     Insurgent   \n",
              "3  Star Wars: The Force Awakens   \n",
              "4                     Furious 7   \n",
              "\n",
              "                                                cast  \\\n",
              "0  Chris Pratt|Bryce Dallas Howard|Irrfan Khan|Vi...   \n",
              "1  Tom Hardy|Charlize Theron|Hugh Keays-Byrne|Nic...   \n",
              "2  Shailene Woodley|Theo James|Kate Winslet|Ansel...   \n",
              "3  Harrison Ford|Mark Hamill|Carrie Fisher|Adam D...   \n",
              "4  Vin Diesel|Paul Walker|Jason Statham|Michelle ...   \n",
              "\n",
              "                                            homepage          director  \\\n",
              "0                      http://www.jurassicworld.com/   Colin Trevorrow   \n",
              "1                        http://www.madmaxmovie.com/     George Miller   \n",
              "2     http://www.thedivergentseries.movie/#insurgent  Robert Schwentke   \n",
              "3  http://www.starwars.com/films/star-wars-episod...       J.J. Abrams   \n",
              "4                           http://www.furious7.com/         James Wan   \n",
              "\n",
              "                         tagline  ...  \\\n",
              "0              The park is open.  ...   \n",
              "1             What a Lovely Day.  ...   \n",
              "2     One Choice Can Destroy You  ...   \n",
              "3  Every generation has a story.  ...   \n",
              "4            Vengeance Hits Home  ...   \n",
              "\n",
              "                                            overview runtime  \\\n",
              "0  Twenty-two years after the events of Jurassic ...     124   \n",
              "1  An apocalyptic story set in the furthest reach...     120   \n",
              "2  Beatrice Prior must confront her inner demons ...     119   \n",
              "3  Thirty years after defeating the Galactic Empi...     136   \n",
              "4  Deckard Shaw seeks revenge against Dominic Tor...     137   \n",
              "\n",
              "                                      genres  \\\n",
              "0  Action|Adventure|Science Fiction|Thriller   \n",
              "1  Action|Adventure|Science Fiction|Thriller   \n",
              "2         Adventure|Science Fiction|Thriller   \n",
              "3   Action|Adventure|Science Fiction|Fantasy   \n",
              "4                      Action|Crime|Thriller   \n",
              "\n",
              "                                production_companies release_date vote_count  \\\n",
              "0  Universal Studios|Amblin Entertainment|Legenda...     6/9/2015       5562   \n",
              "1  Village Roadshow Pictures|Kennedy Miller Produ...    5/13/2015       6185   \n",
              "2  Summit Entertainment|Mandeville Films|Red Wago...    3/18/2015       2480   \n",
              "3          Lucasfilm|Truenorth Productions|Bad Robot   12/15/2015       5292   \n",
              "4  Universal Pictures|Original Film|Media Rights ...     4/1/2015       2947   \n",
              "\n",
              "   vote_average  release_year   budget_adj   revenue_adj  \n",
              "0           6.5          2015  137999939.3  1.392446e+09  \n",
              "1           7.1          2015  137999939.3  3.481613e+08  \n",
              "2           6.3          2015  101199955.5  2.716190e+08  \n",
              "3           7.5          2015  183999919.0  1.902723e+09  \n",
              "4           7.3          2015  174799923.1  1.385749e+09  \n",
              "\n",
              "[5 rows x 21 columns]"
            ],
            "text/html": [
              "\n",
              "\n",
              "  <div id=\"df-f7ffd390-08ed-4a81-9b5d-4f4f430e766e\">\n",
              "    <div class=\"colab-df-container\">\n",
              "      <div>\n",
              "<style scoped>\n",
              "    .dataframe tbody tr th:only-of-type {\n",
              "        vertical-align: middle;\n",
              "    }\n",
              "\n",
              "    .dataframe tbody tr th {\n",
              "        vertical-align: top;\n",
              "    }\n",
              "\n",
              "    .dataframe thead th {\n",
              "        text-align: right;\n",
              "    }\n",
              "</style>\n",
              "<table border=\"1\" class=\"dataframe\">\n",
              "  <thead>\n",
              "    <tr style=\"text-align: right;\">\n",
              "      <th></th>\n",
              "      <th>id</th>\n",
              "      <th>imdb_id</th>\n",
              "      <th>popularity</th>\n",
              "      <th>budget</th>\n",
              "      <th>revenue</th>\n",
              "      <th>original_title</th>\n",
              "      <th>cast</th>\n",
              "      <th>homepage</th>\n",
              "      <th>director</th>\n",
              "      <th>tagline</th>\n",
              "      <th>...</th>\n",
              "      <th>overview</th>\n",
              "      <th>runtime</th>\n",
              "      <th>genres</th>\n",
              "      <th>production_companies</th>\n",
              "      <th>release_date</th>\n",
              "      <th>vote_count</th>\n",
              "      <th>vote_average</th>\n",
              "      <th>release_year</th>\n",
              "      <th>budget_adj</th>\n",
              "      <th>revenue_adj</th>\n",
              "    </tr>\n",
              "  </thead>\n",
              "  <tbody>\n",
              "    <tr>\n",
              "      <th>0</th>\n",
              "      <td>135397</td>\n",
              "      <td>tt0369610</td>\n",
              "      <td>32.985763</td>\n",
              "      <td>150000000</td>\n",
              "      <td>1513528810</td>\n",
              "      <td>Jurassic World</td>\n",
              "      <td>Chris Pratt|Bryce Dallas Howard|Irrfan Khan|Vi...</td>\n",
              "      <td>http://www.jurassicworld.com/</td>\n",
              "      <td>Colin Trevorrow</td>\n",
              "      <td>The park is open.</td>\n",
              "      <td>...</td>\n",
              "      <td>Twenty-two years after the events of Jurassic ...</td>\n",
              "      <td>124</td>\n",
              "      <td>Action|Adventure|Science Fiction|Thriller</td>\n",
              "      <td>Universal Studios|Amblin Entertainment|Legenda...</td>\n",
              "      <td>6/9/2015</td>\n",
              "      <td>5562</td>\n",
              "      <td>6.5</td>\n",
              "      <td>2015</td>\n",
              "      <td>137999939.3</td>\n",
              "      <td>1.392446e+09</td>\n",
              "    </tr>\n",
              "    <tr>\n",
              "      <th>1</th>\n",
              "      <td>76341</td>\n",
              "      <td>tt1392190</td>\n",
              "      <td>28.419936</td>\n",
              "      <td>150000000</td>\n",
              "      <td>378436354</td>\n",
              "      <td>Mad Max: Fury Road</td>\n",
              "      <td>Tom Hardy|Charlize Theron|Hugh Keays-Byrne|Nic...</td>\n",
              "      <td>http://www.madmaxmovie.com/</td>\n",
              "      <td>George Miller</td>\n",
              "      <td>What a Lovely Day.</td>\n",
              "      <td>...</td>\n",
              "      <td>An apocalyptic story set in the furthest reach...</td>\n",
              "      <td>120</td>\n",
              "      <td>Action|Adventure|Science Fiction|Thriller</td>\n",
              "      <td>Village Roadshow Pictures|Kennedy Miller Produ...</td>\n",
              "      <td>5/13/2015</td>\n",
              "      <td>6185</td>\n",
              "      <td>7.1</td>\n",
              "      <td>2015</td>\n",
              "      <td>137999939.3</td>\n",
              "      <td>3.481613e+08</td>\n",
              "    </tr>\n",
              "    <tr>\n",
              "      <th>2</th>\n",
              "      <td>262500</td>\n",
              "      <td>tt2908446</td>\n",
              "      <td>13.112507</td>\n",
              "      <td>110000000</td>\n",
              "      <td>295238201</td>\n",
              "      <td>Insurgent</td>\n",
              "      <td>Shailene Woodley|Theo James|Kate Winslet|Ansel...</td>\n",
              "      <td>http://www.thedivergentseries.movie/#insurgent</td>\n",
              "      <td>Robert Schwentke</td>\n",
              "      <td>One Choice Can Destroy You</td>\n",
              "      <td>...</td>\n",
              "      <td>Beatrice Prior must confront her inner demons ...</td>\n",
              "      <td>119</td>\n",
              "      <td>Adventure|Science Fiction|Thriller</td>\n",
              "      <td>Summit Entertainment|Mandeville Films|Red Wago...</td>\n",
              "      <td>3/18/2015</td>\n",
              "      <td>2480</td>\n",
              "      <td>6.3</td>\n",
              "      <td>2015</td>\n",
              "      <td>101199955.5</td>\n",
              "      <td>2.716190e+08</td>\n",
              "    </tr>\n",
              "    <tr>\n",
              "      <th>3</th>\n",
              "      <td>140607</td>\n",
              "      <td>tt2488496</td>\n",
              "      <td>11.173104</td>\n",
              "      <td>200000000</td>\n",
              "      <td>2068178225</td>\n",
              "      <td>Star Wars: The Force Awakens</td>\n",
              "      <td>Harrison Ford|Mark Hamill|Carrie Fisher|Adam D...</td>\n",
              "      <td>http://www.starwars.com/films/star-wars-episod...</td>\n",
              "      <td>J.J. Abrams</td>\n",
              "      <td>Every generation has a story.</td>\n",
              "      <td>...</td>\n",
              "      <td>Thirty years after defeating the Galactic Empi...</td>\n",
              "      <td>136</td>\n",
              "      <td>Action|Adventure|Science Fiction|Fantasy</td>\n",
              "      <td>Lucasfilm|Truenorth Productions|Bad Robot</td>\n",
              "      <td>12/15/2015</td>\n",
              "      <td>5292</td>\n",
              "      <td>7.5</td>\n",
              "      <td>2015</td>\n",
              "      <td>183999919.0</td>\n",
              "      <td>1.902723e+09</td>\n",
              "    </tr>\n",
              "    <tr>\n",
              "      <th>4</th>\n",
              "      <td>168259</td>\n",
              "      <td>tt2820852</td>\n",
              "      <td>9.335014</td>\n",
              "      <td>190000000</td>\n",
              "      <td>1506249360</td>\n",
              "      <td>Furious 7</td>\n",
              "      <td>Vin Diesel|Paul Walker|Jason Statham|Michelle ...</td>\n",
              "      <td>http://www.furious7.com/</td>\n",
              "      <td>James Wan</td>\n",
              "      <td>Vengeance Hits Home</td>\n",
              "      <td>...</td>\n",
              "      <td>Deckard Shaw seeks revenge against Dominic Tor...</td>\n",
              "      <td>137</td>\n",
              "      <td>Action|Crime|Thriller</td>\n",
              "      <td>Universal Pictures|Original Film|Media Rights ...</td>\n",
              "      <td>4/1/2015</td>\n",
              "      <td>2947</td>\n",
              "      <td>7.3</td>\n",
              "      <td>2015</td>\n",
              "      <td>174799923.1</td>\n",
              "      <td>1.385749e+09</td>\n",
              "    </tr>\n",
              "  </tbody>\n",
              "</table>\n",
              "<p>5 rows × 21 columns</p>\n",
              "</div>\n",
              "      <button class=\"colab-df-convert\" onclick=\"convertToInteractive('df-f7ffd390-08ed-4a81-9b5d-4f4f430e766e')\"\n",
              "              title=\"Convert this dataframe to an interactive table.\"\n",
              "              style=\"display:none;\">\n",
              "\n",
              "  <svg xmlns=\"http://www.w3.org/2000/svg\" height=\"24px\"viewBox=\"0 0 24 24\"\n",
              "       width=\"24px\">\n",
              "    <path d=\"M0 0h24v24H0V0z\" fill=\"none\"/>\n",
              "    <path d=\"M18.56 5.44l.94 2.06.94-2.06 2.06-.94-2.06-.94-.94-2.06-.94 2.06-2.06.94zm-11 1L8.5 8.5l.94-2.06 2.06-.94-2.06-.94L8.5 2.5l-.94 2.06-2.06.94zm10 10l.94 2.06.94-2.06 2.06-.94-2.06-.94-.94-2.06-.94 2.06-2.06.94z\"/><path d=\"M17.41 7.96l-1.37-1.37c-.4-.4-.92-.59-1.43-.59-.52 0-1.04.2-1.43.59L10.3 9.45l-7.72 7.72c-.78.78-.78 2.05 0 2.83L4 21.41c.39.39.9.59 1.41.59.51 0 1.02-.2 1.41-.59l7.78-7.78 2.81-2.81c.8-.78.8-2.07 0-2.86zM5.41 20L4 18.59l7.72-7.72 1.47 1.35L5.41 20z\"/>\n",
              "  </svg>\n",
              "      </button>\n",
              "\n",
              "\n",
              "\n",
              "    <div id=\"df-a1d044c7-e6ed-424c-bd26-e8022e29f361\">\n",
              "      <button class=\"colab-df-quickchart\" onclick=\"quickchart('df-a1d044c7-e6ed-424c-bd26-e8022e29f361')\"\n",
              "              title=\"Suggest charts.\"\n",
              "              style=\"display:none;\">\n",
              "\n",
              "<svg xmlns=\"http://www.w3.org/2000/svg\" height=\"24px\"viewBox=\"0 0 24 24\"\n",
              "     width=\"24px\">\n",
              "    <g>\n",
              "        <path d=\"M19 3H5c-1.1 0-2 .9-2 2v14c0 1.1.9 2 2 2h14c1.1 0 2-.9 2-2V5c0-1.1-.9-2-2-2zM9 17H7v-7h2v7zm4 0h-2V7h2v10zm4 0h-2v-4h2v4z\"/>\n",
              "    </g>\n",
              "</svg>\n",
              "      </button>\n",
              "    </div>\n",
              "\n",
              "<style>\n",
              "  .colab-df-quickchart {\n",
              "    background-color: #E8F0FE;\n",
              "    border: none;\n",
              "    border-radius: 50%;\n",
              "    cursor: pointer;\n",
              "    display: none;\n",
              "    fill: #1967D2;\n",
              "    height: 32px;\n",
              "    padding: 0 0 0 0;\n",
              "    width: 32px;\n",
              "  }\n",
              "\n",
              "  .colab-df-quickchart:hover {\n",
              "    background-color: #E2EBFA;\n",
              "    box-shadow: 0px 1px 2px rgba(60, 64, 67, 0.3), 0px 1px 3px 1px rgba(60, 64, 67, 0.15);\n",
              "    fill: #174EA6;\n",
              "  }\n",
              "\n",
              "  [theme=dark] .colab-df-quickchart {\n",
              "    background-color: #3B4455;\n",
              "    fill: #D2E3FC;\n",
              "  }\n",
              "\n",
              "  [theme=dark] .colab-df-quickchart:hover {\n",
              "    background-color: #434B5C;\n",
              "    box-shadow: 0px 1px 3px 1px rgba(0, 0, 0, 0.15);\n",
              "    filter: drop-shadow(0px 1px 2px rgba(0, 0, 0, 0.3));\n",
              "    fill: #FFFFFF;\n",
              "  }\n",
              "</style>\n",
              "\n",
              "    <script>\n",
              "      async function quickchart(key) {\n",
              "        const containerElement = document.querySelector('#' + key);\n",
              "        const charts = await google.colab.kernel.invokeFunction(\n",
              "            'suggestCharts', [key], {});\n",
              "      }\n",
              "    </script>\n",
              "\n",
              "      <script>\n",
              "\n",
              "function displayQuickchartButton(domScope) {\n",
              "  let quickchartButtonEl =\n",
              "    domScope.querySelector('#df-a1d044c7-e6ed-424c-bd26-e8022e29f361 button.colab-df-quickchart');\n",
              "  quickchartButtonEl.style.display =\n",
              "    google.colab.kernel.accessAllowed ? 'block' : 'none';\n",
              "}\n",
              "\n",
              "        displayQuickchartButton(document);\n",
              "      </script>\n",
              "      <style>\n",
              "    .colab-df-container {\n",
              "      display:flex;\n",
              "      flex-wrap:wrap;\n",
              "      gap: 12px;\n",
              "    }\n",
              "\n",
              "    .colab-df-convert {\n",
              "      background-color: #E8F0FE;\n",
              "      border: none;\n",
              "      border-radius: 50%;\n",
              "      cursor: pointer;\n",
              "      display: none;\n",
              "      fill: #1967D2;\n",
              "      height: 32px;\n",
              "      padding: 0 0 0 0;\n",
              "      width: 32px;\n",
              "    }\n",
              "\n",
              "    .colab-df-convert:hover {\n",
              "      background-color: #E2EBFA;\n",
              "      box-shadow: 0px 1px 2px rgba(60, 64, 67, 0.3), 0px 1px 3px 1px rgba(60, 64, 67, 0.15);\n",
              "      fill: #174EA6;\n",
              "    }\n",
              "\n",
              "    [theme=dark] .colab-df-convert {\n",
              "      background-color: #3B4455;\n",
              "      fill: #D2E3FC;\n",
              "    }\n",
              "\n",
              "    [theme=dark] .colab-df-convert:hover {\n",
              "      background-color: #434B5C;\n",
              "      box-shadow: 0px 1px 3px 1px rgba(0, 0, 0, 0.15);\n",
              "      filter: drop-shadow(0px 1px 2px rgba(0, 0, 0, 0.3));\n",
              "      fill: #FFFFFF;\n",
              "    }\n",
              "  </style>\n",
              "\n",
              "      <script>\n",
              "        const buttonEl =\n",
              "          document.querySelector('#df-f7ffd390-08ed-4a81-9b5d-4f4f430e766e button.colab-df-convert');\n",
              "        buttonEl.style.display =\n",
              "          google.colab.kernel.accessAllowed ? 'block' : 'none';\n",
              "\n",
              "        async function convertToInteractive(key) {\n",
              "          const element = document.querySelector('#df-f7ffd390-08ed-4a81-9b5d-4f4f430e766e');\n",
              "          const dataTable =\n",
              "            await google.colab.kernel.invokeFunction('convertToInteractive',\n",
              "                                                     [key], {});\n",
              "          if (!dataTable) return;\n",
              "\n",
              "          const docLinkHtml = 'Like what you see? Visit the ' +\n",
              "            '<a target=\"_blank\" href=https://colab.research.google.com/notebooks/data_table.ipynb>data table notebook</a>'\n",
              "            + ' to learn more about interactive tables.';\n",
              "          element.innerHTML = '';\n",
              "          dataTable['output_type'] = 'display_data';\n",
              "          await google.colab.output.renderOutput(dataTable, element);\n",
              "          const docLink = document.createElement('div');\n",
              "          docLink.innerHTML = docLinkHtml;\n",
              "          element.appendChild(docLink);\n",
              "        }\n",
              "      </script>\n",
              "    </div>\n",
              "  </div>\n"
            ]
          },
          "metadata": {},
          "execution_count": 10
        }
      ]
    },
    {
      "cell_type": "code",
      "source": [
        "movies_df.shape"
      ],
      "metadata": {
        "colab": {
          "base_uri": "https://localhost:8080/"
        },
        "id": "Iw0ebXdteJN9",
        "outputId": "3d1e1c8b-cb2a-4b04-eb33-b3886b2e5532"
      },
      "execution_count": 12,
      "outputs": [
        {
          "output_type": "execute_result",
          "data": {
            "text/plain": [
              "(10866, 21)"
            ]
          },
          "metadata": {},
          "execution_count": 12
        }
      ]
    },
    {
      "cell_type": "code",
      "source": [
        "movies_df.info()"
      ],
      "metadata": {
        "colab": {
          "base_uri": "https://localhost:8080/"
        },
        "id": "dj9G4OzoeI96",
        "outputId": "d66a1446-765e-4bf0-dbe3-567ddc5dd087"
      },
      "execution_count": 13,
      "outputs": [
        {
          "output_type": "stream",
          "name": "stdout",
          "text": [
            "<class 'pandas.core.frame.DataFrame'>\n",
            "RangeIndex: 10866 entries, 0 to 10865\n",
            "Data columns (total 21 columns):\n",
            " #   Column                Non-Null Count  Dtype  \n",
            "---  ------                --------------  -----  \n",
            " 0   id                    10866 non-null  int64  \n",
            " 1   imdb_id               10856 non-null  object \n",
            " 2   popularity            10866 non-null  float64\n",
            " 3   budget                10866 non-null  int64  \n",
            " 4   revenue               10866 non-null  int64  \n",
            " 5   original_title        10866 non-null  object \n",
            " 6   cast                  10790 non-null  object \n",
            " 7   homepage              2936 non-null   object \n",
            " 8   director              10822 non-null  object \n",
            " 9   tagline               8042 non-null   object \n",
            " 10  keywords              9373 non-null   object \n",
            " 11  overview              10862 non-null  object \n",
            " 12  runtime               10866 non-null  int64  \n",
            " 13  genres                10843 non-null  object \n",
            " 14  production_companies  9836 non-null   object \n",
            " 15  release_date          10866 non-null  object \n",
            " 16  vote_count            10866 non-null  int64  \n",
            " 17  vote_average          10866 non-null  float64\n",
            " 18  release_year          10866 non-null  int64  \n",
            " 19  budget_adj            10866 non-null  float64\n",
            " 20  revenue_adj           10866 non-null  float64\n",
            "dtypes: float64(4), int64(6), object(11)\n",
            "memory usage: 1.7+ MB\n"
          ]
        }
      ]
    },
    {
      "cell_type": "markdown",
      "source": [
        "## Preprocessing"
      ],
      "metadata": {
        "id": "bpVHMeDKWOY4"
      }
    },
    {
      "cell_type": "code",
      "source": [
        "# require Features:- id, original_title, cast 3 only, diretor, keywords, overview, genres, release_year\n",
        "\n",
        "movies_df = movies_df[['id','original_title','cast','director','keywords','overview','genres','release_year']]"
      ],
      "metadata": {
        "id": "vq1CuvLehiel"
      },
      "execution_count": 14,
      "outputs": []
    },
    {
      "cell_type": "code",
      "source": [
        "movies_df.head()"
      ],
      "metadata": {
        "colab": {
          "base_uri": "https://localhost:8080/",
          "height": 406
        },
        "id": "5fjPLBH_i46L",
        "outputId": "9b624257-7431-4eff-e820-545495863120"
      },
      "execution_count": 15,
      "outputs": [
        {
          "output_type": "execute_result",
          "data": {
            "text/plain": [
              "       id                original_title  \\\n",
              "0  135397                Jurassic World   \n",
              "1   76341            Mad Max: Fury Road   \n",
              "2  262500                     Insurgent   \n",
              "3  140607  Star Wars: The Force Awakens   \n",
              "4  168259                     Furious 7   \n",
              "\n",
              "                                                cast          director  \\\n",
              "0  Chris Pratt|Bryce Dallas Howard|Irrfan Khan|Vi...   Colin Trevorrow   \n",
              "1  Tom Hardy|Charlize Theron|Hugh Keays-Byrne|Nic...     George Miller   \n",
              "2  Shailene Woodley|Theo James|Kate Winslet|Ansel...  Robert Schwentke   \n",
              "3  Harrison Ford|Mark Hamill|Carrie Fisher|Adam D...       J.J. Abrams   \n",
              "4  Vin Diesel|Paul Walker|Jason Statham|Michelle ...         James Wan   \n",
              "\n",
              "                                            keywords  \\\n",
              "0  monster|dna|tyrannosaurus rex|velociraptor|island   \n",
              "1   future|chase|post-apocalyptic|dystopia|australia   \n",
              "2  based on novel|revolution|dystopia|sequel|dyst...   \n",
              "3              android|spaceship|jedi|space opera|3d   \n",
              "4                car race|speed|revenge|suspense|car   \n",
              "\n",
              "                                            overview  \\\n",
              "0  Twenty-two years after the events of Jurassic ...   \n",
              "1  An apocalyptic story set in the furthest reach...   \n",
              "2  Beatrice Prior must confront her inner demons ...   \n",
              "3  Thirty years after defeating the Galactic Empi...   \n",
              "4  Deckard Shaw seeks revenge against Dominic Tor...   \n",
              "\n",
              "                                      genres  release_year  \n",
              "0  Action|Adventure|Science Fiction|Thriller          2015  \n",
              "1  Action|Adventure|Science Fiction|Thriller          2015  \n",
              "2         Adventure|Science Fiction|Thriller          2015  \n",
              "3   Action|Adventure|Science Fiction|Fantasy          2015  \n",
              "4                      Action|Crime|Thriller          2015  "
            ],
            "text/html": [
              "\n",
              "\n",
              "  <div id=\"df-723e482a-5a75-494b-bfd7-af196e675909\">\n",
              "    <div class=\"colab-df-container\">\n",
              "      <div>\n",
              "<style scoped>\n",
              "    .dataframe tbody tr th:only-of-type {\n",
              "        vertical-align: middle;\n",
              "    }\n",
              "\n",
              "    .dataframe tbody tr th {\n",
              "        vertical-align: top;\n",
              "    }\n",
              "\n",
              "    .dataframe thead th {\n",
              "        text-align: right;\n",
              "    }\n",
              "</style>\n",
              "<table border=\"1\" class=\"dataframe\">\n",
              "  <thead>\n",
              "    <tr style=\"text-align: right;\">\n",
              "      <th></th>\n",
              "      <th>id</th>\n",
              "      <th>original_title</th>\n",
              "      <th>cast</th>\n",
              "      <th>director</th>\n",
              "      <th>keywords</th>\n",
              "      <th>overview</th>\n",
              "      <th>genres</th>\n",
              "      <th>release_year</th>\n",
              "    </tr>\n",
              "  </thead>\n",
              "  <tbody>\n",
              "    <tr>\n",
              "      <th>0</th>\n",
              "      <td>135397</td>\n",
              "      <td>Jurassic World</td>\n",
              "      <td>Chris Pratt|Bryce Dallas Howard|Irrfan Khan|Vi...</td>\n",
              "      <td>Colin Trevorrow</td>\n",
              "      <td>monster|dna|tyrannosaurus rex|velociraptor|island</td>\n",
              "      <td>Twenty-two years after the events of Jurassic ...</td>\n",
              "      <td>Action|Adventure|Science Fiction|Thriller</td>\n",
              "      <td>2015</td>\n",
              "    </tr>\n",
              "    <tr>\n",
              "      <th>1</th>\n",
              "      <td>76341</td>\n",
              "      <td>Mad Max: Fury Road</td>\n",
              "      <td>Tom Hardy|Charlize Theron|Hugh Keays-Byrne|Nic...</td>\n",
              "      <td>George Miller</td>\n",
              "      <td>future|chase|post-apocalyptic|dystopia|australia</td>\n",
              "      <td>An apocalyptic story set in the furthest reach...</td>\n",
              "      <td>Action|Adventure|Science Fiction|Thriller</td>\n",
              "      <td>2015</td>\n",
              "    </tr>\n",
              "    <tr>\n",
              "      <th>2</th>\n",
              "      <td>262500</td>\n",
              "      <td>Insurgent</td>\n",
              "      <td>Shailene Woodley|Theo James|Kate Winslet|Ansel...</td>\n",
              "      <td>Robert Schwentke</td>\n",
              "      <td>based on novel|revolution|dystopia|sequel|dyst...</td>\n",
              "      <td>Beatrice Prior must confront her inner demons ...</td>\n",
              "      <td>Adventure|Science Fiction|Thriller</td>\n",
              "      <td>2015</td>\n",
              "    </tr>\n",
              "    <tr>\n",
              "      <th>3</th>\n",
              "      <td>140607</td>\n",
              "      <td>Star Wars: The Force Awakens</td>\n",
              "      <td>Harrison Ford|Mark Hamill|Carrie Fisher|Adam D...</td>\n",
              "      <td>J.J. Abrams</td>\n",
              "      <td>android|spaceship|jedi|space opera|3d</td>\n",
              "      <td>Thirty years after defeating the Galactic Empi...</td>\n",
              "      <td>Action|Adventure|Science Fiction|Fantasy</td>\n",
              "      <td>2015</td>\n",
              "    </tr>\n",
              "    <tr>\n",
              "      <th>4</th>\n",
              "      <td>168259</td>\n",
              "      <td>Furious 7</td>\n",
              "      <td>Vin Diesel|Paul Walker|Jason Statham|Michelle ...</td>\n",
              "      <td>James Wan</td>\n",
              "      <td>car race|speed|revenge|suspense|car</td>\n",
              "      <td>Deckard Shaw seeks revenge against Dominic Tor...</td>\n",
              "      <td>Action|Crime|Thriller</td>\n",
              "      <td>2015</td>\n",
              "    </tr>\n",
              "  </tbody>\n",
              "</table>\n",
              "</div>\n",
              "      <button class=\"colab-df-convert\" onclick=\"convertToInteractive('df-723e482a-5a75-494b-bfd7-af196e675909')\"\n",
              "              title=\"Convert this dataframe to an interactive table.\"\n",
              "              style=\"display:none;\">\n",
              "\n",
              "  <svg xmlns=\"http://www.w3.org/2000/svg\" height=\"24px\"viewBox=\"0 0 24 24\"\n",
              "       width=\"24px\">\n",
              "    <path d=\"M0 0h24v24H0V0z\" fill=\"none\"/>\n",
              "    <path d=\"M18.56 5.44l.94 2.06.94-2.06 2.06-.94-2.06-.94-.94-2.06-.94 2.06-2.06.94zm-11 1L8.5 8.5l.94-2.06 2.06-.94-2.06-.94L8.5 2.5l-.94 2.06-2.06.94zm10 10l.94 2.06.94-2.06 2.06-.94-2.06-.94-.94-2.06-.94 2.06-2.06.94z\"/><path d=\"M17.41 7.96l-1.37-1.37c-.4-.4-.92-.59-1.43-.59-.52 0-1.04.2-1.43.59L10.3 9.45l-7.72 7.72c-.78.78-.78 2.05 0 2.83L4 21.41c.39.39.9.59 1.41.59.51 0 1.02-.2 1.41-.59l7.78-7.78 2.81-2.81c.8-.78.8-2.07 0-2.86zM5.41 20L4 18.59l7.72-7.72 1.47 1.35L5.41 20z\"/>\n",
              "  </svg>\n",
              "      </button>\n",
              "\n",
              "\n",
              "\n",
              "    <div id=\"df-876b4e1d-a288-4322-8de4-dcd7cef65e3e\">\n",
              "      <button class=\"colab-df-quickchart\" onclick=\"quickchart('df-876b4e1d-a288-4322-8de4-dcd7cef65e3e')\"\n",
              "              title=\"Suggest charts.\"\n",
              "              style=\"display:none;\">\n",
              "\n",
              "<svg xmlns=\"http://www.w3.org/2000/svg\" height=\"24px\"viewBox=\"0 0 24 24\"\n",
              "     width=\"24px\">\n",
              "    <g>\n",
              "        <path d=\"M19 3H5c-1.1 0-2 .9-2 2v14c0 1.1.9 2 2 2h14c1.1 0 2-.9 2-2V5c0-1.1-.9-2-2-2zM9 17H7v-7h2v7zm4 0h-2V7h2v10zm4 0h-2v-4h2v4z\"/>\n",
              "    </g>\n",
              "</svg>\n",
              "      </button>\n",
              "    </div>\n",
              "\n",
              "<style>\n",
              "  .colab-df-quickchart {\n",
              "    background-color: #E8F0FE;\n",
              "    border: none;\n",
              "    border-radius: 50%;\n",
              "    cursor: pointer;\n",
              "    display: none;\n",
              "    fill: #1967D2;\n",
              "    height: 32px;\n",
              "    padding: 0 0 0 0;\n",
              "    width: 32px;\n",
              "  }\n",
              "\n",
              "  .colab-df-quickchart:hover {\n",
              "    background-color: #E2EBFA;\n",
              "    box-shadow: 0px 1px 2px rgba(60, 64, 67, 0.3), 0px 1px 3px 1px rgba(60, 64, 67, 0.15);\n",
              "    fill: #174EA6;\n",
              "  }\n",
              "\n",
              "  [theme=dark] .colab-df-quickchart {\n",
              "    background-color: #3B4455;\n",
              "    fill: #D2E3FC;\n",
              "  }\n",
              "\n",
              "  [theme=dark] .colab-df-quickchart:hover {\n",
              "    background-color: #434B5C;\n",
              "    box-shadow: 0px 1px 3px 1px rgba(0, 0, 0, 0.15);\n",
              "    filter: drop-shadow(0px 1px 2px rgba(0, 0, 0, 0.3));\n",
              "    fill: #FFFFFF;\n",
              "  }\n",
              "</style>\n",
              "\n",
              "    <script>\n",
              "      async function quickchart(key) {\n",
              "        const containerElement = document.querySelector('#' + key);\n",
              "        const charts = await google.colab.kernel.invokeFunction(\n",
              "            'suggestCharts', [key], {});\n",
              "      }\n",
              "    </script>\n",
              "\n",
              "      <script>\n",
              "\n",
              "function displayQuickchartButton(domScope) {\n",
              "  let quickchartButtonEl =\n",
              "    domScope.querySelector('#df-876b4e1d-a288-4322-8de4-dcd7cef65e3e button.colab-df-quickchart');\n",
              "  quickchartButtonEl.style.display =\n",
              "    google.colab.kernel.accessAllowed ? 'block' : 'none';\n",
              "}\n",
              "\n",
              "        displayQuickchartButton(document);\n",
              "      </script>\n",
              "      <style>\n",
              "    .colab-df-container {\n",
              "      display:flex;\n",
              "      flex-wrap:wrap;\n",
              "      gap: 12px;\n",
              "    }\n",
              "\n",
              "    .colab-df-convert {\n",
              "      background-color: #E8F0FE;\n",
              "      border: none;\n",
              "      border-radius: 50%;\n",
              "      cursor: pointer;\n",
              "      display: none;\n",
              "      fill: #1967D2;\n",
              "      height: 32px;\n",
              "      padding: 0 0 0 0;\n",
              "      width: 32px;\n",
              "    }\n",
              "\n",
              "    .colab-df-convert:hover {\n",
              "      background-color: #E2EBFA;\n",
              "      box-shadow: 0px 1px 2px rgba(60, 64, 67, 0.3), 0px 1px 3px 1px rgba(60, 64, 67, 0.15);\n",
              "      fill: #174EA6;\n",
              "    }\n",
              "\n",
              "    [theme=dark] .colab-df-convert {\n",
              "      background-color: #3B4455;\n",
              "      fill: #D2E3FC;\n",
              "    }\n",
              "\n",
              "    [theme=dark] .colab-df-convert:hover {\n",
              "      background-color: #434B5C;\n",
              "      box-shadow: 0px 1px 3px 1px rgba(0, 0, 0, 0.15);\n",
              "      filter: drop-shadow(0px 1px 2px rgba(0, 0, 0, 0.3));\n",
              "      fill: #FFFFFF;\n",
              "    }\n",
              "  </style>\n",
              "\n",
              "      <script>\n",
              "        const buttonEl =\n",
              "          document.querySelector('#df-723e482a-5a75-494b-bfd7-af196e675909 button.colab-df-convert');\n",
              "        buttonEl.style.display =\n",
              "          google.colab.kernel.accessAllowed ? 'block' : 'none';\n",
              "\n",
              "        async function convertToInteractive(key) {\n",
              "          const element = document.querySelector('#df-723e482a-5a75-494b-bfd7-af196e675909');\n",
              "          const dataTable =\n",
              "            await google.colab.kernel.invokeFunction('convertToInteractive',\n",
              "                                                     [key], {});\n",
              "          if (!dataTable) return;\n",
              "\n",
              "          const docLinkHtml = 'Like what you see? Visit the ' +\n",
              "            '<a target=\"_blank\" href=https://colab.research.google.com/notebooks/data_table.ipynb>data table notebook</a>'\n",
              "            + ' to learn more about interactive tables.';\n",
              "          element.innerHTML = '';\n",
              "          dataTable['output_type'] = 'display_data';\n",
              "          await google.colab.output.renderOutput(dataTable, element);\n",
              "          const docLink = document.createElement('div');\n",
              "          docLink.innerHTML = docLinkHtml;\n",
              "          element.appendChild(docLink);\n",
              "        }\n",
              "      </script>\n",
              "    </div>\n",
              "  </div>\n"
            ]
          },
          "metadata": {},
          "execution_count": 15
        }
      ]
    },
    {
      "cell_type": "code",
      "source": [
        "movies_df.shape"
      ],
      "metadata": {
        "colab": {
          "base_uri": "https://localhost:8080/"
        },
        "id": "TXClKV6njbsP",
        "outputId": "cc0f12fe-df42-4abd-a081-36a02887a0ca"
      },
      "execution_count": 16,
      "outputs": [
        {
          "output_type": "execute_result",
          "data": {
            "text/plain": [
              "(10866, 8)"
            ]
          },
          "metadata": {},
          "execution_count": 16
        }
      ]
    },
    {
      "cell_type": "code",
      "source": [
        "# null values\n",
        "movies_df.isnull().sum()\n",
        "movies_df.dropna(inplace = True)"
      ],
      "metadata": {
        "id": "8glSF6CyeI6g"
      },
      "execution_count": 18,
      "outputs": []
    },
    {
      "cell_type": "code",
      "source": [
        "# duplicate values\n",
        "movies_df.duplicated().sum()\n",
        "movies_df.drop_duplicates()\n",
        "movies_df.reset_index(inplace = True)"
      ],
      "metadata": {
        "id": "i0yzRx2DeI4o"
      },
      "execution_count": 20,
      "outputs": []
    },
    {
      "cell_type": "code",
      "source": [
        "def get_main_cast(text):\n",
        "  casts =  text.split('|')\n",
        "  final_cast = []\n",
        "  count=0\n",
        "  for i in casts:\n",
        "    if count<3:\n",
        "      final_cast.append(i)\n",
        "      count+=1\n",
        "    else:\n",
        "      break\n",
        "\n",
        "  return final_cast\n",
        "\n",
        "def convert_into_list(text):\n",
        "  final_list = text.split('|')\n",
        "  return final_list"
      ],
      "metadata": {
        "id": "-U6Suzc3lAHZ"
      },
      "execution_count": 21,
      "outputs": []
    },
    {
      "cell_type": "code",
      "source": [
        "#cast 3 fetch\n",
        "movies_df['cast'] = movies_df['cast'].apply(get_main_cast)"
      ],
      "metadata": {
        "id": "6x7KOrXdeIs4"
      },
      "execution_count": 22,
      "outputs": []
    },
    {
      "cell_type": "code",
      "source": [
        "#genres convert in list\n",
        "movies_df['genres'] = movies_df['genres'].apply(convert_into_list)"
      ],
      "metadata": {
        "id": "y8AQLQq9lwyO"
      },
      "execution_count": 23,
      "outputs": []
    },
    {
      "cell_type": "code",
      "source": [
        "movies_df['keywords'] = movies_df['keywords'].apply(convert_into_list)"
      ],
      "metadata": {
        "id": "ncB4WC1amwm_"
      },
      "execution_count": 24,
      "outputs": []
    },
    {
      "cell_type": "code",
      "source": [
        "movies_df['overview'] = movies_df['overview'].apply(lambda x: x.split())"
      ],
      "metadata": {
        "id": "evqkwMCIoDVZ"
      },
      "execution_count": 25,
      "outputs": []
    },
    {
      "cell_type": "code",
      "source": [
        "movies_df.head()"
      ],
      "metadata": {
        "colab": {
          "base_uri": "https://localhost:8080/",
          "height": 337
        },
        "id": "92G-DTbik6pY",
        "outputId": "b113b859-ae7b-4da3-deda-14bceb3171c0"
      },
      "execution_count": 26,
      "outputs": [
        {
          "output_type": "execute_result",
          "data": {
            "text/plain": [
              "   index      id                original_title  \\\n",
              "0      0  135397                Jurassic World   \n",
              "1      1   76341            Mad Max: Fury Road   \n",
              "2      2  262500                     Insurgent   \n",
              "3      3  140607  Star Wars: The Force Awakens   \n",
              "4      4  168259                     Furious 7   \n",
              "\n",
              "                                              cast          director  \\\n",
              "0  [Chris Pratt, Bryce Dallas Howard, Irrfan Khan]   Colin Trevorrow   \n",
              "1   [Tom Hardy, Charlize Theron, Hugh Keays-Byrne]     George Miller   \n",
              "2     [Shailene Woodley, Theo James, Kate Winslet]  Robert Schwentke   \n",
              "3      [Harrison Ford, Mark Hamill, Carrie Fisher]       J.J. Abrams   \n",
              "4         [Vin Diesel, Paul Walker, Jason Statham]         James Wan   \n",
              "\n",
              "                                            keywords  \\\n",
              "0  [monster, dna, tyrannosaurus rex, velociraptor...   \n",
              "1  [future, chase, post-apocalyptic, dystopia, au...   \n",
              "2  [based on novel, revolution, dystopia, sequel,...   \n",
              "3        [android, spaceship, jedi, space opera, 3d]   \n",
              "4          [car race, speed, revenge, suspense, car]   \n",
              "\n",
              "                                            overview  \\\n",
              "0  [Twenty-two, years, after, the, events, of, Ju...   \n",
              "1  [An, apocalyptic, story, set, in, the, furthes...   \n",
              "2  [Beatrice, Prior, must, confront, her, inner, ...   \n",
              "3  [Thirty, years, after, defeating, the, Galacti...   \n",
              "4  [Deckard, Shaw, seeks, revenge, against, Domin...   \n",
              "\n",
              "                                           genres  release_year  \n",
              "0  [Action, Adventure, Science Fiction, Thriller]          2015  \n",
              "1  [Action, Adventure, Science Fiction, Thriller]          2015  \n",
              "2          [Adventure, Science Fiction, Thriller]          2015  \n",
              "3   [Action, Adventure, Science Fiction, Fantasy]          2015  \n",
              "4                       [Action, Crime, Thriller]          2015  "
            ],
            "text/html": [
              "\n",
              "\n",
              "  <div id=\"df-b29992ef-5b22-4145-a291-42c6082c0d4d\">\n",
              "    <div class=\"colab-df-container\">\n",
              "      <div>\n",
              "<style scoped>\n",
              "    .dataframe tbody tr th:only-of-type {\n",
              "        vertical-align: middle;\n",
              "    }\n",
              "\n",
              "    .dataframe tbody tr th {\n",
              "        vertical-align: top;\n",
              "    }\n",
              "\n",
              "    .dataframe thead th {\n",
              "        text-align: right;\n",
              "    }\n",
              "</style>\n",
              "<table border=\"1\" class=\"dataframe\">\n",
              "  <thead>\n",
              "    <tr style=\"text-align: right;\">\n",
              "      <th></th>\n",
              "      <th>index</th>\n",
              "      <th>id</th>\n",
              "      <th>original_title</th>\n",
              "      <th>cast</th>\n",
              "      <th>director</th>\n",
              "      <th>keywords</th>\n",
              "      <th>overview</th>\n",
              "      <th>genres</th>\n",
              "      <th>release_year</th>\n",
              "    </tr>\n",
              "  </thead>\n",
              "  <tbody>\n",
              "    <tr>\n",
              "      <th>0</th>\n",
              "      <td>0</td>\n",
              "      <td>135397</td>\n",
              "      <td>Jurassic World</td>\n",
              "      <td>[Chris Pratt, Bryce Dallas Howard, Irrfan Khan]</td>\n",
              "      <td>Colin Trevorrow</td>\n",
              "      <td>[monster, dna, tyrannosaurus rex, velociraptor...</td>\n",
              "      <td>[Twenty-two, years, after, the, events, of, Ju...</td>\n",
              "      <td>[Action, Adventure, Science Fiction, Thriller]</td>\n",
              "      <td>2015</td>\n",
              "    </tr>\n",
              "    <tr>\n",
              "      <th>1</th>\n",
              "      <td>1</td>\n",
              "      <td>76341</td>\n",
              "      <td>Mad Max: Fury Road</td>\n",
              "      <td>[Tom Hardy, Charlize Theron, Hugh Keays-Byrne]</td>\n",
              "      <td>George Miller</td>\n",
              "      <td>[future, chase, post-apocalyptic, dystopia, au...</td>\n",
              "      <td>[An, apocalyptic, story, set, in, the, furthes...</td>\n",
              "      <td>[Action, Adventure, Science Fiction, Thriller]</td>\n",
              "      <td>2015</td>\n",
              "    </tr>\n",
              "    <tr>\n",
              "      <th>2</th>\n",
              "      <td>2</td>\n",
              "      <td>262500</td>\n",
              "      <td>Insurgent</td>\n",
              "      <td>[Shailene Woodley, Theo James, Kate Winslet]</td>\n",
              "      <td>Robert Schwentke</td>\n",
              "      <td>[based on novel, revolution, dystopia, sequel,...</td>\n",
              "      <td>[Beatrice, Prior, must, confront, her, inner, ...</td>\n",
              "      <td>[Adventure, Science Fiction, Thriller]</td>\n",
              "      <td>2015</td>\n",
              "    </tr>\n",
              "    <tr>\n",
              "      <th>3</th>\n",
              "      <td>3</td>\n",
              "      <td>140607</td>\n",
              "      <td>Star Wars: The Force Awakens</td>\n",
              "      <td>[Harrison Ford, Mark Hamill, Carrie Fisher]</td>\n",
              "      <td>J.J. Abrams</td>\n",
              "      <td>[android, spaceship, jedi, space opera, 3d]</td>\n",
              "      <td>[Thirty, years, after, defeating, the, Galacti...</td>\n",
              "      <td>[Action, Adventure, Science Fiction, Fantasy]</td>\n",
              "      <td>2015</td>\n",
              "    </tr>\n",
              "    <tr>\n",
              "      <th>4</th>\n",
              "      <td>4</td>\n",
              "      <td>168259</td>\n",
              "      <td>Furious 7</td>\n",
              "      <td>[Vin Diesel, Paul Walker, Jason Statham]</td>\n",
              "      <td>James Wan</td>\n",
              "      <td>[car race, speed, revenge, suspense, car]</td>\n",
              "      <td>[Deckard, Shaw, seeks, revenge, against, Domin...</td>\n",
              "      <td>[Action, Crime, Thriller]</td>\n",
              "      <td>2015</td>\n",
              "    </tr>\n",
              "  </tbody>\n",
              "</table>\n",
              "</div>\n",
              "      <button class=\"colab-df-convert\" onclick=\"convertToInteractive('df-b29992ef-5b22-4145-a291-42c6082c0d4d')\"\n",
              "              title=\"Convert this dataframe to an interactive table.\"\n",
              "              style=\"display:none;\">\n",
              "\n",
              "  <svg xmlns=\"http://www.w3.org/2000/svg\" height=\"24px\"viewBox=\"0 0 24 24\"\n",
              "       width=\"24px\">\n",
              "    <path d=\"M0 0h24v24H0V0z\" fill=\"none\"/>\n",
              "    <path d=\"M18.56 5.44l.94 2.06.94-2.06 2.06-.94-2.06-.94-.94-2.06-.94 2.06-2.06.94zm-11 1L8.5 8.5l.94-2.06 2.06-.94-2.06-.94L8.5 2.5l-.94 2.06-2.06.94zm10 10l.94 2.06.94-2.06 2.06-.94-2.06-.94-.94-2.06-.94 2.06-2.06.94z\"/><path d=\"M17.41 7.96l-1.37-1.37c-.4-.4-.92-.59-1.43-.59-.52 0-1.04.2-1.43.59L10.3 9.45l-7.72 7.72c-.78.78-.78 2.05 0 2.83L4 21.41c.39.39.9.59 1.41.59.51 0 1.02-.2 1.41-.59l7.78-7.78 2.81-2.81c.8-.78.8-2.07 0-2.86zM5.41 20L4 18.59l7.72-7.72 1.47 1.35L5.41 20z\"/>\n",
              "  </svg>\n",
              "      </button>\n",
              "\n",
              "\n",
              "\n",
              "    <div id=\"df-7efc91b8-c32f-4c76-8f26-c7c777e743eb\">\n",
              "      <button class=\"colab-df-quickchart\" onclick=\"quickchart('df-7efc91b8-c32f-4c76-8f26-c7c777e743eb')\"\n",
              "              title=\"Suggest charts.\"\n",
              "              style=\"display:none;\">\n",
              "\n",
              "<svg xmlns=\"http://www.w3.org/2000/svg\" height=\"24px\"viewBox=\"0 0 24 24\"\n",
              "     width=\"24px\">\n",
              "    <g>\n",
              "        <path d=\"M19 3H5c-1.1 0-2 .9-2 2v14c0 1.1.9 2 2 2h14c1.1 0 2-.9 2-2V5c0-1.1-.9-2-2-2zM9 17H7v-7h2v7zm4 0h-2V7h2v10zm4 0h-2v-4h2v4z\"/>\n",
              "    </g>\n",
              "</svg>\n",
              "      </button>\n",
              "    </div>\n",
              "\n",
              "<style>\n",
              "  .colab-df-quickchart {\n",
              "    background-color: #E8F0FE;\n",
              "    border: none;\n",
              "    border-radius: 50%;\n",
              "    cursor: pointer;\n",
              "    display: none;\n",
              "    fill: #1967D2;\n",
              "    height: 32px;\n",
              "    padding: 0 0 0 0;\n",
              "    width: 32px;\n",
              "  }\n",
              "\n",
              "  .colab-df-quickchart:hover {\n",
              "    background-color: #E2EBFA;\n",
              "    box-shadow: 0px 1px 2px rgba(60, 64, 67, 0.3), 0px 1px 3px 1px rgba(60, 64, 67, 0.15);\n",
              "    fill: #174EA6;\n",
              "  }\n",
              "\n",
              "  [theme=dark] .colab-df-quickchart {\n",
              "    background-color: #3B4455;\n",
              "    fill: #D2E3FC;\n",
              "  }\n",
              "\n",
              "  [theme=dark] .colab-df-quickchart:hover {\n",
              "    background-color: #434B5C;\n",
              "    box-shadow: 0px 1px 3px 1px rgba(0, 0, 0, 0.15);\n",
              "    filter: drop-shadow(0px 1px 2px rgba(0, 0, 0, 0.3));\n",
              "    fill: #FFFFFF;\n",
              "  }\n",
              "</style>\n",
              "\n",
              "    <script>\n",
              "      async function quickchart(key) {\n",
              "        const containerElement = document.querySelector('#' + key);\n",
              "        const charts = await google.colab.kernel.invokeFunction(\n",
              "            'suggestCharts', [key], {});\n",
              "      }\n",
              "    </script>\n",
              "\n",
              "      <script>\n",
              "\n",
              "function displayQuickchartButton(domScope) {\n",
              "  let quickchartButtonEl =\n",
              "    domScope.querySelector('#df-7efc91b8-c32f-4c76-8f26-c7c777e743eb button.colab-df-quickchart');\n",
              "  quickchartButtonEl.style.display =\n",
              "    google.colab.kernel.accessAllowed ? 'block' : 'none';\n",
              "}\n",
              "\n",
              "        displayQuickchartButton(document);\n",
              "      </script>\n",
              "      <style>\n",
              "    .colab-df-container {\n",
              "      display:flex;\n",
              "      flex-wrap:wrap;\n",
              "      gap: 12px;\n",
              "    }\n",
              "\n",
              "    .colab-df-convert {\n",
              "      background-color: #E8F0FE;\n",
              "      border: none;\n",
              "      border-radius: 50%;\n",
              "      cursor: pointer;\n",
              "      display: none;\n",
              "      fill: #1967D2;\n",
              "      height: 32px;\n",
              "      padding: 0 0 0 0;\n",
              "      width: 32px;\n",
              "    }\n",
              "\n",
              "    .colab-df-convert:hover {\n",
              "      background-color: #E2EBFA;\n",
              "      box-shadow: 0px 1px 2px rgba(60, 64, 67, 0.3), 0px 1px 3px 1px rgba(60, 64, 67, 0.15);\n",
              "      fill: #174EA6;\n",
              "    }\n",
              "\n",
              "    [theme=dark] .colab-df-convert {\n",
              "      background-color: #3B4455;\n",
              "      fill: #D2E3FC;\n",
              "    }\n",
              "\n",
              "    [theme=dark] .colab-df-convert:hover {\n",
              "      background-color: #434B5C;\n",
              "      box-shadow: 0px 1px 3px 1px rgba(0, 0, 0, 0.15);\n",
              "      filter: drop-shadow(0px 1px 2px rgba(0, 0, 0, 0.3));\n",
              "      fill: #FFFFFF;\n",
              "    }\n",
              "  </style>\n",
              "\n",
              "      <script>\n",
              "        const buttonEl =\n",
              "          document.querySelector('#df-b29992ef-5b22-4145-a291-42c6082c0d4d button.colab-df-convert');\n",
              "        buttonEl.style.display =\n",
              "          google.colab.kernel.accessAllowed ? 'block' : 'none';\n",
              "\n",
              "        async function convertToInteractive(key) {\n",
              "          const element = document.querySelector('#df-b29992ef-5b22-4145-a291-42c6082c0d4d');\n",
              "          const dataTable =\n",
              "            await google.colab.kernel.invokeFunction('convertToInteractive',\n",
              "                                                     [key], {});\n",
              "          if (!dataTable) return;\n",
              "\n",
              "          const docLinkHtml = 'Like what you see? Visit the ' +\n",
              "            '<a target=\"_blank\" href=https://colab.research.google.com/notebooks/data_table.ipynb>data table notebook</a>'\n",
              "            + ' to learn more about interactive tables.';\n",
              "          element.innerHTML = '';\n",
              "          dataTable['output_type'] = 'display_data';\n",
              "          await google.colab.output.renderOutput(dataTable, element);\n",
              "          const docLink = document.createElement('div');\n",
              "          docLink.innerHTML = docLinkHtml;\n",
              "          element.appendChild(docLink);\n",
              "        }\n",
              "      </script>\n",
              "    </div>\n",
              "  </div>\n"
            ]
          },
          "metadata": {},
          "execution_count": 26
        }
      ]
    },
    {
      "cell_type": "code",
      "source": [
        "#remove spaces between words\n",
        "def remove_space(text):\n",
        "  final_list = []\n",
        "  for i in text:\n",
        "    final_list.append(i.replace(\" \",\"\"))\n",
        "\n",
        "  return final_list"
      ],
      "metadata": {
        "id": "0dw4i-x6k6dn"
      },
      "execution_count": 27,
      "outputs": []
    },
    {
      "cell_type": "code",
      "source": [
        "movies_df['cast'] = movies_df['cast'].apply(remove_space)\n",
        "movies_df['keywords'] = movies_df['keywords'].apply(remove_space)\n",
        "movies_df['genres'] = movies_df['genres'].apply(remove_space)\n",
        "movies_df['director'] = movies_df['director'].apply(lambda x: x.replace(\" \",\"\").split(\" \"))"
      ],
      "metadata": {
        "id": "UO9BzPW6oqd4"
      },
      "execution_count": 28,
      "outputs": []
    },
    {
      "cell_type": "code",
      "source": [
        "movies_df.info()"
      ],
      "metadata": {
        "colab": {
          "base_uri": "https://localhost:8080/"
        },
        "id": "Fgkb4vsHp7It",
        "outputId": "16679c09-3d00-4a4e-b15f-ea5916755b4b"
      },
      "execution_count": 29,
      "outputs": [
        {
          "output_type": "stream",
          "name": "stdout",
          "text": [
            "<class 'pandas.core.frame.DataFrame'>\n",
            "RangeIndex: 9306 entries, 0 to 9305\n",
            "Data columns (total 9 columns):\n",
            " #   Column          Non-Null Count  Dtype \n",
            "---  ------          --------------  ----- \n",
            " 0   index           9306 non-null   int64 \n",
            " 1   id              9306 non-null   int64 \n",
            " 2   original_title  9306 non-null   object\n",
            " 3   cast            9306 non-null   object\n",
            " 4   director        9306 non-null   object\n",
            " 5   keywords        9306 non-null   object\n",
            " 6   overview        9306 non-null   object\n",
            " 7   genres          9306 non-null   object\n",
            " 8   release_year    9306 non-null   int64 \n",
            "dtypes: int64(3), object(6)\n",
            "memory usage: 654.5+ KB\n"
          ]
        }
      ]
    },
    {
      "cell_type": "markdown",
      "source": [
        "### creating tags from features"
      ],
      "metadata": {
        "id": "WLsgRCVOWOVU"
      }
    },
    {
      "cell_type": "code",
      "source": [
        "movies_df['tags'] = movies_df['cast'] + movies_df['overview']+movies_df['keywords']+movies_df['genres']+movies_df['director']"
      ],
      "metadata": {
        "id": "KhVf4HcmrKnu"
      },
      "execution_count": 30,
      "outputs": []
    },
    {
      "cell_type": "code",
      "source": [
        "final_movies = movies_df[['id','original_title','release_year','tags']]"
      ],
      "metadata": {
        "id": "kUKyIfq3slWO"
      },
      "execution_count": 31,
      "outputs": []
    },
    {
      "cell_type": "code",
      "source": [
        "final_movies.head()"
      ],
      "metadata": {
        "colab": {
          "base_uri": "https://localhost:8080/",
          "height": 206
        },
        "id": "RXGPsJcZslMt",
        "outputId": "4259f4da-6871-4381-dced-1bbe86a10e98"
      },
      "execution_count": 32,
      "outputs": [
        {
          "output_type": "execute_result",
          "data": {
            "text/plain": [
              "       id                original_title  release_year  \\\n",
              "0  135397                Jurassic World          2015   \n",
              "1   76341            Mad Max: Fury Road          2015   \n",
              "2  262500                     Insurgent          2015   \n",
              "3  140607  Star Wars: The Force Awakens          2015   \n",
              "4  168259                     Furious 7          2015   \n",
              "\n",
              "                                                tags  \n",
              "0  [ChrisPratt, BryceDallasHoward, IrrfanKhan, Tw...  \n",
              "1  [TomHardy, CharlizeTheron, HughKeays-Byrne, An...  \n",
              "2  [ShaileneWoodley, TheoJames, KateWinslet, Beat...  \n",
              "3  [HarrisonFord, MarkHamill, CarrieFisher, Thirt...  \n",
              "4  [VinDiesel, PaulWalker, JasonStatham, Deckard,...  "
            ],
            "text/html": [
              "\n",
              "\n",
              "  <div id=\"df-ac08f0b1-01c6-45c1-ab1c-04e5246e28af\">\n",
              "    <div class=\"colab-df-container\">\n",
              "      <div>\n",
              "<style scoped>\n",
              "    .dataframe tbody tr th:only-of-type {\n",
              "        vertical-align: middle;\n",
              "    }\n",
              "\n",
              "    .dataframe tbody tr th {\n",
              "        vertical-align: top;\n",
              "    }\n",
              "\n",
              "    .dataframe thead th {\n",
              "        text-align: right;\n",
              "    }\n",
              "</style>\n",
              "<table border=\"1\" class=\"dataframe\">\n",
              "  <thead>\n",
              "    <tr style=\"text-align: right;\">\n",
              "      <th></th>\n",
              "      <th>id</th>\n",
              "      <th>original_title</th>\n",
              "      <th>release_year</th>\n",
              "      <th>tags</th>\n",
              "    </tr>\n",
              "  </thead>\n",
              "  <tbody>\n",
              "    <tr>\n",
              "      <th>0</th>\n",
              "      <td>135397</td>\n",
              "      <td>Jurassic World</td>\n",
              "      <td>2015</td>\n",
              "      <td>[ChrisPratt, BryceDallasHoward, IrrfanKhan, Tw...</td>\n",
              "    </tr>\n",
              "    <tr>\n",
              "      <th>1</th>\n",
              "      <td>76341</td>\n",
              "      <td>Mad Max: Fury Road</td>\n",
              "      <td>2015</td>\n",
              "      <td>[TomHardy, CharlizeTheron, HughKeays-Byrne, An...</td>\n",
              "    </tr>\n",
              "    <tr>\n",
              "      <th>2</th>\n",
              "      <td>262500</td>\n",
              "      <td>Insurgent</td>\n",
              "      <td>2015</td>\n",
              "      <td>[ShaileneWoodley, TheoJames, KateWinslet, Beat...</td>\n",
              "    </tr>\n",
              "    <tr>\n",
              "      <th>3</th>\n",
              "      <td>140607</td>\n",
              "      <td>Star Wars: The Force Awakens</td>\n",
              "      <td>2015</td>\n",
              "      <td>[HarrisonFord, MarkHamill, CarrieFisher, Thirt...</td>\n",
              "    </tr>\n",
              "    <tr>\n",
              "      <th>4</th>\n",
              "      <td>168259</td>\n",
              "      <td>Furious 7</td>\n",
              "      <td>2015</td>\n",
              "      <td>[VinDiesel, PaulWalker, JasonStatham, Deckard,...</td>\n",
              "    </tr>\n",
              "  </tbody>\n",
              "</table>\n",
              "</div>\n",
              "      <button class=\"colab-df-convert\" onclick=\"convertToInteractive('df-ac08f0b1-01c6-45c1-ab1c-04e5246e28af')\"\n",
              "              title=\"Convert this dataframe to an interactive table.\"\n",
              "              style=\"display:none;\">\n",
              "\n",
              "  <svg xmlns=\"http://www.w3.org/2000/svg\" height=\"24px\"viewBox=\"0 0 24 24\"\n",
              "       width=\"24px\">\n",
              "    <path d=\"M0 0h24v24H0V0z\" fill=\"none\"/>\n",
              "    <path d=\"M18.56 5.44l.94 2.06.94-2.06 2.06-.94-2.06-.94-.94-2.06-.94 2.06-2.06.94zm-11 1L8.5 8.5l.94-2.06 2.06-.94-2.06-.94L8.5 2.5l-.94 2.06-2.06.94zm10 10l.94 2.06.94-2.06 2.06-.94-2.06-.94-.94-2.06-.94 2.06-2.06.94z\"/><path d=\"M17.41 7.96l-1.37-1.37c-.4-.4-.92-.59-1.43-.59-.52 0-1.04.2-1.43.59L10.3 9.45l-7.72 7.72c-.78.78-.78 2.05 0 2.83L4 21.41c.39.39.9.59 1.41.59.51 0 1.02-.2 1.41-.59l7.78-7.78 2.81-2.81c.8-.78.8-2.07 0-2.86zM5.41 20L4 18.59l7.72-7.72 1.47 1.35L5.41 20z\"/>\n",
              "  </svg>\n",
              "      </button>\n",
              "\n",
              "\n",
              "\n",
              "    <div id=\"df-06a26377-1247-4058-9ba8-77e1f55b3366\">\n",
              "      <button class=\"colab-df-quickchart\" onclick=\"quickchart('df-06a26377-1247-4058-9ba8-77e1f55b3366')\"\n",
              "              title=\"Suggest charts.\"\n",
              "              style=\"display:none;\">\n",
              "\n",
              "<svg xmlns=\"http://www.w3.org/2000/svg\" height=\"24px\"viewBox=\"0 0 24 24\"\n",
              "     width=\"24px\">\n",
              "    <g>\n",
              "        <path d=\"M19 3H5c-1.1 0-2 .9-2 2v14c0 1.1.9 2 2 2h14c1.1 0 2-.9 2-2V5c0-1.1-.9-2-2-2zM9 17H7v-7h2v7zm4 0h-2V7h2v10zm4 0h-2v-4h2v4z\"/>\n",
              "    </g>\n",
              "</svg>\n",
              "      </button>\n",
              "    </div>\n",
              "\n",
              "<style>\n",
              "  .colab-df-quickchart {\n",
              "    background-color: #E8F0FE;\n",
              "    border: none;\n",
              "    border-radius: 50%;\n",
              "    cursor: pointer;\n",
              "    display: none;\n",
              "    fill: #1967D2;\n",
              "    height: 32px;\n",
              "    padding: 0 0 0 0;\n",
              "    width: 32px;\n",
              "  }\n",
              "\n",
              "  .colab-df-quickchart:hover {\n",
              "    background-color: #E2EBFA;\n",
              "    box-shadow: 0px 1px 2px rgba(60, 64, 67, 0.3), 0px 1px 3px 1px rgba(60, 64, 67, 0.15);\n",
              "    fill: #174EA6;\n",
              "  }\n",
              "\n",
              "  [theme=dark] .colab-df-quickchart {\n",
              "    background-color: #3B4455;\n",
              "    fill: #D2E3FC;\n",
              "  }\n",
              "\n",
              "  [theme=dark] .colab-df-quickchart:hover {\n",
              "    background-color: #434B5C;\n",
              "    box-shadow: 0px 1px 3px 1px rgba(0, 0, 0, 0.15);\n",
              "    filter: drop-shadow(0px 1px 2px rgba(0, 0, 0, 0.3));\n",
              "    fill: #FFFFFF;\n",
              "  }\n",
              "</style>\n",
              "\n",
              "    <script>\n",
              "      async function quickchart(key) {\n",
              "        const containerElement = document.querySelector('#' + key);\n",
              "        const charts = await google.colab.kernel.invokeFunction(\n",
              "            'suggestCharts', [key], {});\n",
              "      }\n",
              "    </script>\n",
              "\n",
              "      <script>\n",
              "\n",
              "function displayQuickchartButton(domScope) {\n",
              "  let quickchartButtonEl =\n",
              "    domScope.querySelector('#df-06a26377-1247-4058-9ba8-77e1f55b3366 button.colab-df-quickchart');\n",
              "  quickchartButtonEl.style.display =\n",
              "    google.colab.kernel.accessAllowed ? 'block' : 'none';\n",
              "}\n",
              "\n",
              "        displayQuickchartButton(document);\n",
              "      </script>\n",
              "      <style>\n",
              "    .colab-df-container {\n",
              "      display:flex;\n",
              "      flex-wrap:wrap;\n",
              "      gap: 12px;\n",
              "    }\n",
              "\n",
              "    .colab-df-convert {\n",
              "      background-color: #E8F0FE;\n",
              "      border: none;\n",
              "      border-radius: 50%;\n",
              "      cursor: pointer;\n",
              "      display: none;\n",
              "      fill: #1967D2;\n",
              "      height: 32px;\n",
              "      padding: 0 0 0 0;\n",
              "      width: 32px;\n",
              "    }\n",
              "\n",
              "    .colab-df-convert:hover {\n",
              "      background-color: #E2EBFA;\n",
              "      box-shadow: 0px 1px 2px rgba(60, 64, 67, 0.3), 0px 1px 3px 1px rgba(60, 64, 67, 0.15);\n",
              "      fill: #174EA6;\n",
              "    }\n",
              "\n",
              "    [theme=dark] .colab-df-convert {\n",
              "      background-color: #3B4455;\n",
              "      fill: #D2E3FC;\n",
              "    }\n",
              "\n",
              "    [theme=dark] .colab-df-convert:hover {\n",
              "      background-color: #434B5C;\n",
              "      box-shadow: 0px 1px 3px 1px rgba(0, 0, 0, 0.15);\n",
              "      filter: drop-shadow(0px 1px 2px rgba(0, 0, 0, 0.3));\n",
              "      fill: #FFFFFF;\n",
              "    }\n",
              "  </style>\n",
              "\n",
              "      <script>\n",
              "        const buttonEl =\n",
              "          document.querySelector('#df-ac08f0b1-01c6-45c1-ab1c-04e5246e28af button.colab-df-convert');\n",
              "        buttonEl.style.display =\n",
              "          google.colab.kernel.accessAllowed ? 'block' : 'none';\n",
              "\n",
              "        async function convertToInteractive(key) {\n",
              "          const element = document.querySelector('#df-ac08f0b1-01c6-45c1-ab1c-04e5246e28af');\n",
              "          const dataTable =\n",
              "            await google.colab.kernel.invokeFunction('convertToInteractive',\n",
              "                                                     [key], {});\n",
              "          if (!dataTable) return;\n",
              "\n",
              "          const docLinkHtml = 'Like what you see? Visit the ' +\n",
              "            '<a target=\"_blank\" href=https://colab.research.google.com/notebooks/data_table.ipynb>data table notebook</a>'\n",
              "            + ' to learn more about interactive tables.';\n",
              "          element.innerHTML = '';\n",
              "          dataTable['output_type'] = 'display_data';\n",
              "          await google.colab.output.renderOutput(dataTable, element);\n",
              "          const docLink = document.createElement('div');\n",
              "          docLink.innerHTML = docLinkHtml;\n",
              "          element.appendChild(docLink);\n",
              "        }\n",
              "      </script>\n",
              "    </div>\n",
              "  </div>\n"
            ]
          },
          "metadata": {},
          "execution_count": 32
        }
      ]
    },
    {
      "cell_type": "code",
      "source": [
        "final_movies.shape"
      ],
      "metadata": {
        "colab": {
          "base_uri": "https://localhost:8080/"
        },
        "id": "MIzRZjzrs6o3",
        "outputId": "614ed6be-6ecd-4847-e125-ba53e1c8d2aa"
      },
      "execution_count": 33,
      "outputs": [
        {
          "output_type": "execute_result",
          "data": {
            "text/plain": [
              "(9306, 4)"
            ]
          },
          "metadata": {},
          "execution_count": 33
        }
      ]
    },
    {
      "cell_type": "markdown",
      "source": [
        "### Preprossess tags column"
      ],
      "metadata": {
        "id": "SF0_Tq2KWOSw"
      }
    },
    {
      "cell_type": "code",
      "source": [
        "final_movies['tags'] = final_movies['tags'].apply(lambda x: \" \".join(x))"
      ],
      "metadata": {
        "id": "BVXIF2PStBrw"
      },
      "execution_count": null,
      "outputs": []
    },
    {
      "cell_type": "markdown",
      "source": [
        "### natural language processing"
      ],
      "metadata": {
        "id": "YGL3Q3oCtcc9"
      }
    },
    {
      "cell_type": "code",
      "source": [
        "nltk.download('stopwords')\n",
        "nltk.download('punkt')\n",
        "sw_list = stopwords.words('english')\n",
        "word_stemmer = PorterStemmer()\n",
        "\n",
        "def remove_tags(text):\n",
        "  return re.sub(re.compile('<.*?>'), '', text)\n",
        "\n",
        "def to_lower(text):\n",
        "  return text.lower()\n",
        "\n",
        "def remove_stop_words(text):\n",
        "  word_tokens = word_tokenize(text)\n",
        "  final_text  =\" \".join([w for w in word_tokens if not w in sw_list])\n",
        "\n",
        "  return final_text\n",
        "\n",
        "def stemming(text):\n",
        "  word_tokens = word_tokenize(text)\n",
        "  final_text  =\" \".join([word_stemmer.stem(w) for w in word_tokens])\n",
        "  return final_text"
      ],
      "metadata": {
        "colab": {
          "base_uri": "https://localhost:8080/"
        },
        "id": "mqCD-Xb2tBlw",
        "outputId": "55e759ab-9fdc-4507-cb0d-0ae64670cf91"
      },
      "execution_count": 35,
      "outputs": [
        {
          "output_type": "stream",
          "name": "stderr",
          "text": [
            "[nltk_data] Downloading package stopwords to /root/nltk_data...\n",
            "[nltk_data]   Unzipping corpora/stopwords.zip.\n",
            "[nltk_data] Downloading package punkt to /root/nltk_data...\n",
            "[nltk_data]   Unzipping tokenizers/punkt.zip.\n"
          ]
        }
      ]
    },
    {
      "cell_type": "code",
      "source": [
        "final_movies['tags'] = final_movies['tags'].apply(remove_tags)\n",
        "final_movies['tags'] = final_movies['tags'].apply(to_lower)\n",
        "final_movies['tags'] = final_movies['tags'].apply(remove_stop_words)\n",
        "final_movies['tags'] = final_movies['tags'].apply(stemming)"
      ],
      "metadata": {
        "id": "M4aUTdyitBjG"
      },
      "execution_count": null,
      "outputs": []
    },
    {
      "cell_type": "code",
      "source": [
        "final_movies['tags']"
      ],
      "metadata": {
        "colab": {
          "base_uri": "https://localhost:8080/"
        },
        "id": "sRGikFG9tBoY",
        "outputId": "b26a33fa-41da-4753-cff5-6baf32a08af7"
      },
      "execution_count": 37,
      "outputs": [
        {
          "output_type": "execute_result",
          "data": {
            "text/plain": [
              "0       chrispratt brycedallashoward irrfankhan twenty...\n",
              "1       tomhardi charlizetheron hughkeays-byrn apocaly...\n",
              "2       shailenewoodley theojam katewinslet beatric pr...\n",
              "3       harrisonford markhamil carriefish thirti year ...\n",
              "4       vindiesel paulwalk jasonstatham deckard shaw s...\n",
              "                              ...                        \n",
              "9301    michaelhynson robertaugust lord'tallyho'blear ...\n",
              "9302    jamesgarn evamariesaint yvesmontand grand prix...\n",
              "9303    innokentiysmoktunovskiy olegefremov georgizhzh...\n",
              "9304    tatsuyamihashi akikowakabayashi miehama comic ...\n",
              "9305    haroldp.warren tomneyman johnreynold famili ge...\n",
              "Name: tags, Length: 9306, dtype: object"
            ]
          },
          "metadata": {},
          "execution_count": 37
        }
      ]
    },
    {
      "cell_type": "markdown",
      "source": [
        "## Model Creation"
      ],
      "metadata": {
        "id": "u4LpGL-NWOQJ"
      }
    },
    {
      "cell_type": "markdown",
      "source": [
        "### Making Vectors Using CountVectorizer"
      ],
      "metadata": {
        "id": "ghuJVhYxWo-O"
      }
    },
    {
      "cell_type": "code",
      "source": [
        "from sklearn.feature_extraction.text import CountVectorizer\n",
        "cVec = CountVectorizer(max_features=5000)"
      ],
      "metadata": {
        "id": "OkOpFh2suzow"
      },
      "execution_count": 38,
      "outputs": []
    },
    {
      "cell_type": "code",
      "source": [
        "vectors = cVec.fit_transform(final_movies['tags']).toarray()"
      ],
      "metadata": {
        "id": "At__SI95uzlS"
      },
      "execution_count": 39,
      "outputs": []
    },
    {
      "cell_type": "code",
      "source": [
        "vectors.shape"
      ],
      "metadata": {
        "colab": {
          "base_uri": "https://localhost:8080/"
        },
        "id": "KG2S7FjWvWpi",
        "outputId": "150f6d28-9af5-4fc8-cbd7-723cca9fa7b9"
      },
      "execution_count": 40,
      "outputs": [
        {
          "output_type": "execute_result",
          "data": {
            "text/plain": [
              "(9306, 5000)"
            ]
          },
          "metadata": {},
          "execution_count": 40
        }
      ]
    },
    {
      "cell_type": "markdown",
      "source": [
        "### Creating Similarity Matrix using Cosine Similarity"
      ],
      "metadata": {
        "id": "vnYVZocVWsX7"
      }
    },
    {
      "cell_type": "code",
      "source": [
        "from sklearn.metrics.pairwise import cosine_similarity"
      ],
      "metadata": {
        "id": "-hX4ju1KvTRn"
      },
      "execution_count": 41,
      "outputs": []
    },
    {
      "cell_type": "code",
      "source": [
        "similarity = cosine_similarity(vectors)"
      ],
      "metadata": {
        "id": "0KSJ8ygvvTLh"
      },
      "execution_count": 42,
      "outputs": []
    },
    {
      "cell_type": "code",
      "source": [
        "similarity"
      ],
      "metadata": {
        "colab": {
          "base_uri": "https://localhost:8080/"
        },
        "id": "8xu9gLFnviDU",
        "outputId": "4c454fcf-1907-4080-ba9c-0a08ef1e282f"
      },
      "execution_count": 43,
      "outputs": [
        {
          "output_type": "execute_result",
          "data": {
            "text/plain": [
              "array([[1.        , 0.18887687, 0.13650473, ..., 0.        , 0.07049074,\n",
              "        0.        ],\n",
              "       [0.18887687, 1.        , 0.12354155, ..., 0.        , 0.13397283,\n",
              "        0.        ],\n",
              "       [0.13650473, 0.12354155, 1.        , ..., 0.        , 0.        ,\n",
              "        0.        ],\n",
              "       ...,\n",
              "       [0.        , 0.        , 0.        , ..., 1.        , 0.02942449,\n",
              "        0.        ],\n",
              "       [0.07049074, 0.13397283, 0.        , ..., 0.02942449, 1.        ,\n",
              "        0.        ],\n",
              "       [0.        , 0.        , 0.        , ..., 0.        , 0.        ,\n",
              "        1.        ]])"
            ]
          },
          "metadata": {},
          "execution_count": 43
        }
      ]
    },
    {
      "cell_type": "markdown",
      "source": [
        "### evaluating model"
      ],
      "metadata": {
        "id": "U9iCrLNhvwva"
      }
    },
    {
      "cell_type": "code",
      "source": [
        "def recommend(movie):\n",
        "    index = final_movies[final_movies['original_title'] == movie].index[0]\n",
        "    distances = sorted(list(enumerate(similarity[index])),reverse=True,key = lambda x: x[1])\n",
        "    for i in distances[1:6]:\n",
        "        print(final_movies.iloc[i[0]].original_title)"
      ],
      "metadata": {
        "id": "Ax7MQkbavtxZ"
      },
      "execution_count": 44,
      "outputs": []
    },
    {
      "cell_type": "code",
      "source": [
        "recommend('Superman')"
      ],
      "metadata": {
        "colab": {
          "base_uri": "https://localhost:8080/"
        },
        "id": "WkiICNxhvtdg",
        "outputId": "1e31fce2-e764-442f-e54f-15dac4f62aad"
      },
      "execution_count": 47,
      "outputs": [
        {
          "output_type": "stream",
          "name": "stdout",
          "text": [
            "Superman II\n",
            "All Star Superman\n",
            "Superman Returns\n",
            "Superman IV: The Quest for Peace\n",
            "Supergirl\n"
          ]
        }
      ]
    },
    {
      "cell_type": "markdown",
      "source": [
        "## Exporting Model and require data"
      ],
      "metadata": {
        "id": "bdPSsbeTWy_-"
      }
    },
    {
      "cell_type": "code",
      "source": [
        "pickle.dump(final_movies,open('movie_list.pkl','wb'))\n",
        "pickle.dump(similarity,open('similarity.pkl','wb'))"
      ],
      "metadata": {
        "id": "pXIrHCSUWgM5"
      },
      "execution_count": 49,
      "outputs": []
    },
    {
      "cell_type": "code",
      "source": [],
      "metadata": {
        "id": "tGLKqRM7Wnw_"
      },
      "execution_count": null,
      "outputs": []
    }
  ]
}